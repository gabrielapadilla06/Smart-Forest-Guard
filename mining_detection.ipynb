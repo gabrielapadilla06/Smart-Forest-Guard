{
 "cells": [
  {
   "cell_type": "markdown",
   "id": "187b7d82",
   "metadata": {
    "papermill": {
     "duration": 0.00972,
     "end_time": "2022-08-08T14:42:18.050696",
     "exception": false,
     "start_time": "2022-08-08T14:42:18.040976",
     "status": "completed"
    },
    "tags": []
   },
   "source": [
    "# Detección de actividad minera"
   ]
  },
  {
   "cell_type": "code",
   "execution_count": 1,
   "id": "68fcd772",
   "metadata": {
    "execution": {
     "iopub.execute_input": "2022-08-08T14:42:18.069704Z",
     "iopub.status.busy": "2022-08-08T14:42:18.069236Z",
     "iopub.status.idle": "2022-08-08T14:42:25.130973Z",
     "shell.execute_reply": "2022-08-08T14:42:25.129915Z"
    },
    "papermill": {
     "duration": 7.074701,
     "end_time": "2022-08-08T14:42:25.133904",
     "exception": false,
     "start_time": "2022-08-08T14:42:18.059203",
     "status": "completed"
    },
    "tags": []
   },
   "outputs": [],
   "source": [
    "from time import time\n",
    "\n",
    "import pandas as pd\n",
    "import matplotlib.pyplot as plt\n",
    "import tensorflow as tf\n",
    "import numpy as np"
   ]
  },
  {
   "cell_type": "markdown",
   "id": "cbef1390",
   "metadata": {},
   "source": [
    "## Explorar el dataset"
   ]
  },
  {
   "cell_type": "markdown",
   "id": "7c23228a",
   "metadata": {
    "papermill": {
     "duration": 0.008632,
     "end_time": "2022-08-08T14:42:25.150973",
     "exception": false,
     "start_time": "2022-08-08T14:42:25.142341",
     "status": "completed"
    },
    "tags": []
   },
   "source": [
    "Also, I'm going to define a function to plot training history of each model:"
   ]
  },
  {
   "cell_type": "code",
   "execution_count": 2,
   "id": "09e98450",
   "metadata": {
    "execution": {
     "iopub.execute_input": "2022-08-08T14:42:25.170093Z",
     "iopub.status.busy": "2022-08-08T14:42:25.168904Z",
     "iopub.status.idle": "2022-08-08T14:42:25.178394Z",
     "shell.execute_reply": "2022-08-08T14:42:25.177566Z"
    },
    "papermill": {
     "duration": 0.021556,
     "end_time": "2022-08-08T14:42:25.180831",
     "exception": false,
     "start_time": "2022-08-08T14:42:25.159275",
     "status": "completed"
    },
    "tags": []
   },
   "outputs": [],
   "source": [
    "def plot_history(history):\n",
    "    acc = history.history['accuracy']\n",
    "    val_acc = history.history['val_accuracy']\n",
    "\n",
    "    loss = history.history['loss']\n",
    "    val_loss = history.history['val_loss']\n",
    "\n",
    "    plt.figure(figsize=(20, 8))\n",
    "    plt.subplot(1, 2, 1)\n",
    "    plt.plot(range(len(acc)), acc, label='Training Accuracy')\n",
    "    plt.plot(range(len(val_acc)), val_acc, label='Validation Accuracy')\n",
    "    plt.legend(loc='lower right')\n",
    "    plt.title('Training and Validation Accuracy')\n",
    "\n",
    "    plt.subplot(1, 2, 2)\n",
    "    plt.plot(range(len(loss)), loss, label='Training Loss')\n",
    "    plt.plot(range(len(val_loss)), val_loss, label='Validation Loss')\n",
    "    plt.legend(loc='upper right')\n",
    "    plt.title('Training and Validation Loss')\n",
    "    plt.show()"
   ]
  },
  {
   "cell_type": "markdown",
   "id": "da30a3c5",
   "metadata": {
    "papermill": {
     "duration": 0.00784,
     "end_time": "2022-08-08T14:42:25.196926",
     "exception": false,
     "start_time": "2022-08-08T14:42:25.189086",
     "status": "completed"
    },
    "tags": []
   },
   "source": [
    "Some constant (or not) variables are defined:"
   ]
  },
  {
   "cell_type": "code",
   "execution_count": 3,
   "id": "f3761205",
   "metadata": {
    "execution": {
     "iopub.execute_input": "2022-08-08T14:42:25.215927Z",
     "iopub.status.busy": "2022-08-08T14:42:25.214704Z",
     "iopub.status.idle": "2022-08-08T14:42:25.220406Z",
     "shell.execute_reply": "2022-08-08T14:42:25.219374Z"
    },
    "papermill": {
     "duration": 0.017439,
     "end_time": "2022-08-08T14:42:25.222648",
     "exception": false,
     "start_time": "2022-08-08T14:42:25.205209",
     "status": "completed"
    },
    "tags": []
   },
   "outputs": [],
   "source": [
    "BATCH_SIZE = 32\n",
    "IMG_HEIGHT = 64\n",
    "IMG_WIDTH = 64\n",
    "EPOCHS = 25\n",
    "DATASET_VALIDATION_SPLIT = 0.2\n",
    "DATASET_PATH = \"./images/dataset\"\n",
    "MODEL_PATH = \"mining_detection_model\""
   ]
  },
  {
   "cell_type": "markdown",
   "id": "66015385",
   "metadata": {
    "papermill": {
     "duration": 0.007765,
     "end_time": "2022-08-08T14:42:25.238717",
     "exception": false,
     "start_time": "2022-08-08T14:42:25.230952",
     "status": "completed"
    },
    "tags": []
   },
   "source": [
    "keras provides image_dataset_from_directory ([documentation here](https://www.tensorflow.org/api_docs/python/tf/keras/utils/image_dataset_from_directory)). As said there, it generates a tf.data.Dataset from image files in a directory."
   ]
  },
  {
   "cell_type": "code",
   "execution_count": 4,
   "id": "2bd89ce9",
   "metadata": {
    "execution": {
     "iopub.execute_input": "2022-08-08T14:42:25.257943Z",
     "iopub.status.busy": "2022-08-08T14:42:25.257459Z",
     "iopub.status.idle": "2022-08-08T14:42:37.183619Z",
     "shell.execute_reply": "2022-08-08T14:42:37.182208Z"
    },
    "papermill": {
     "duration": 11.938105,
     "end_time": "2022-08-08T14:42:37.186024",
     "exception": false,
     "start_time": "2022-08-08T14:42:25.247919",
     "status": "completed"
    },
    "tags": []
   },
   "outputs": [
    {
     "name": "stdout",
     "output_type": "stream",
     "text": [
      "Found 8137 files belonging to 2 classes.\n",
      "Using 6510 files for training.\n",
      "Found 8137 files belonging to 2 classes.\n",
      "Using 1627 files for validation.\n"
     ]
    }
   ],
   "source": [
    "TRAIN_DATASET = tf.keras.utils.image_dataset_from_directory(\n",
    "  DATASET_PATH,\n",
    "  validation_split=DATASET_VALIDATION_SPLIT,\n",
    "  subset=\"training\",\n",
    "  seed=123,\n",
    "  image_size=(IMG_HEIGHT, IMG_WIDTH),\n",
    "  batch_size=BATCH_SIZE)\n",
    "\n",
    "VALIDATION_DATASET = tf.keras.utils.image_dataset_from_directory(\n",
    "  DATASET_PATH,\n",
    "  validation_split=DATASET_VALIDATION_SPLIT,\n",
    "  subset=\"validation\",\n",
    "  seed=123,\n",
    "  image_size=(IMG_HEIGHT, IMG_WIDTH),\n",
    "  batch_size=BATCH_SIZE)\n",
    "\n",
    "CLASS_NAMES = TRAIN_DATASET.class_names"
   ]
  },
  {
   "cell_type": "code",
   "execution_count": 5,
   "id": "024f3bc6",
   "metadata": {},
   "outputs": [
    {
     "data": {
      "text/plain": [
       "['Mining', 'No Mining']"
      ]
     },
     "execution_count": 5,
     "metadata": {},
     "output_type": "execute_result"
    }
   ],
   "source": [
    "CLASS_NAMES"
   ]
  },
  {
   "cell_type": "code",
   "execution_count": null,
   "id": "b2fb09fb",
   "metadata": {
    "execution": {
     "iopub.execute_input": "2022-08-08T14:50:11.188442Z",
     "iopub.status.busy": "2022-08-08T14:50:11.187731Z",
     "iopub.status.idle": "2022-08-08T14:50:11.916685Z",
     "shell.execute_reply": "2022-08-08T14:50:11.915588Z"
    },
    "papermill": {
     "duration": 0.982873,
     "end_time": "2022-08-08T14:50:11.924812",
     "exception": false,
     "start_time": "2022-08-08T14:50:10.941939",
     "status": "completed"
    },
    "tags": []
   },
   "outputs": [],
   "source": [
    "plt.figure(figsize=(10, 10))\n",
    "for images, labels in TRAIN_DATASET.take(1):\n",
    "  for i in range(9):\n",
    "    ax = plt.subplot(3, 3, i + 1)\n",
    "    plt.imshow(images[i].numpy().astype(\"uint8\"))\n",
    "    plt.title(CLASS_NAMES[labels[i]])\n",
    "    plt.axis(\"off\")"
   ]
  },
  {
   "cell_type": "code",
   "execution_count": 7,
   "id": "5aef521e",
   "metadata": {
    "execution": {
     "iopub.execute_input": "2022-08-08T14:50:09.453335Z",
     "iopub.status.busy": "2022-08-08T14:50:09.452934Z",
     "iopub.status.idle": "2022-08-08T14:50:10.695218Z",
     "shell.execute_reply": "2022-08-08T14:50:10.693789Z"
    },
    "papermill": {
     "duration": 1.546501,
     "end_time": "2022-08-08T14:50:10.697799",
     "exception": false,
     "start_time": "2022-08-08T14:50:09.151298",
     "status": "completed"
    },
    "tags": []
   },
   "outputs": [
    {
     "name": "stdout",
     "output_type": "stream",
     "text": [
      "Found 8137 files belonging to 2 classes.\n",
      "Using 6510 files for training.\n",
      "Found 8137 files belonging to 2 classes.\n",
      "Using 1627 files for validation.\n"
     ]
    }
   ],
   "source": [
    "TRAIN_DATASET = tf.keras.utils.image_dataset_from_directory(\n",
    "  DATASET_PATH,\n",
    "  validation_split=DATASET_VALIDATION_SPLIT,\n",
    "  subset=\"training\",\n",
    "  color_mode=\"grayscale\",\n",
    "  seed=123,\n",
    "  image_size=(IMG_HEIGHT, IMG_WIDTH),\n",
    "  batch_size=BATCH_SIZE)\n",
    "\n",
    "VALIDATION_DATASET = tf.keras.utils.image_dataset_from_directory(\n",
    "  DATASET_PATH,\n",
    "  validation_split=DATASET_VALIDATION_SPLIT,\n",
    "  subset=\"validation\",\n",
    "  color_mode=\"grayscale\",\n",
    "  seed=123,\n",
    "  image_size=(IMG_HEIGHT, IMG_WIDTH),\n",
    "  batch_size=BATCH_SIZE)"
   ]
  },
  {
   "cell_type": "code",
   "execution_count": null,
   "id": "200f004f",
   "metadata": {},
   "outputs": [],
   "source": [
    "plt.figure(figsize=(10, 10))\n",
    "for images, labels in TRAIN_DATASET.take(1):\n",
    "  for i in range(9):\n",
    "    ax = plt.subplot(3, 3, i + 1)\n",
    "    plt.imshow(images[i].numpy().astype(\"uint8\"))\n",
    "    plt.title(CLASS_NAMES[labels[i]])\n",
    "    plt.axis(\"off\")"
   ]
  },
  {
   "cell_type": "markdown",
   "id": "5fa0ba04",
   "metadata": {},
   "source": [
    "## Configuraciones y entrenamiento del modelo"
   ]
  },
  {
   "cell_type": "code",
   "execution_count": 9,
   "id": "83781be9",
   "metadata": {
    "execution": {
     "iopub.execute_input": "2022-08-08T14:50:12.425824Z",
     "iopub.status.busy": "2022-08-08T14:50:12.425020Z",
     "iopub.status.idle": "2022-08-08T14:50:12.503234Z",
     "shell.execute_reply": "2022-08-08T14:50:12.501800Z"
    },
    "papermill": {
     "duration": 0.328675,
     "end_time": "2022-08-08T14:50:12.505713",
     "exception": false,
     "start_time": "2022-08-08T14:50:12.177038",
     "status": "completed"
    },
    "tags": []
   },
   "outputs": [
    {
     "name": "stdout",
     "output_type": "stream",
     "text": [
      "Model: \"sequential\"\n",
      "_________________________________________________________________\n",
      " Layer (type)                Output Shape              Param #   \n",
      "=================================================================\n",
      " rescaling (Rescaling)       (None, 64, 64, 1)         0         \n",
      "                                                                 \n",
      " conv2d (Conv2D)             (None, 64, 64, 16)        160       \n",
      "                                                                 \n",
      " max_pooling2d (MaxPooling2D  (None, 32, 32, 16)       0         \n",
      " )                                                               \n",
      "                                                                 \n",
      " conv2d_1 (Conv2D)           (None, 32, 32, 32)        4640      \n",
      "                                                                 \n",
      " max_pooling2d_1 (MaxPooling  (None, 16, 16, 32)       0         \n",
      " 2D)                                                             \n",
      "                                                                 \n",
      " conv2d_2 (Conv2D)           (None, 16, 16, 64)        18496     \n",
      "                                                                 \n",
      " max_pooling2d_2 (MaxPooling  (None, 8, 8, 64)         0         \n",
      " 2D)                                                             \n",
      "                                                                 \n",
      " flatten (Flatten)           (None, 4096)              0         \n",
      "                                                                 \n",
      " dense (Dense)               (None, 128)               524416    \n",
      "                                                                 \n",
      " dense_1 (Dense)             (None, 2)                 258       \n",
      "                                                                 \n",
      "=================================================================\n",
      "Total params: 547,970\n",
      "Trainable params: 547,970\n",
      "Non-trainable params: 0\n",
      "_________________________________________________________________\n"
     ]
    }
   ],
   "source": [
    "model = tf.keras.Sequential([\n",
    "  tf.keras.layers.Rescaling(1./255, input_shape=(IMG_HEIGHT, IMG_WIDTH, 1)),\n",
    "  tf.keras.layers.Conv2D(16, 3, padding='same', activation='relu'),\n",
    "  tf.keras.layers.MaxPooling2D(),\n",
    "  tf.keras.layers.Conv2D(32, 3, padding='same', activation='relu'),\n",
    "  tf.keras.layers.MaxPooling2D(),\n",
    "  tf.keras.layers.Conv2D(64, 3, padding='same', activation='relu'),\n",
    "  tf.keras.layers.MaxPooling2D(),\n",
    "  tf.keras.layers.Flatten(),\n",
    "  tf.keras.layers.Dense(128, activation='relu'),\n",
    "  tf.keras.layers.Dense(len(CLASS_NAMES))\n",
    "])\n",
    "\n",
    "model.compile(optimizer='adam',\n",
    "              loss=tf.keras.losses.SparseCategoricalCrossentropy(from_logits=True),\n",
    "              metrics=['accuracy'])\n",
    "model.summary()"
   ]
  },
  {
   "cell_type": "code",
   "execution_count": 10,
   "id": "1ce1b775",
   "metadata": {
    "execution": {
     "iopub.execute_input": "2022-08-08T14:50:13.006555Z",
     "iopub.status.busy": "2022-08-08T14:50:13.005148Z",
     "iopub.status.idle": "2022-08-08T14:55:12.355180Z",
     "shell.execute_reply": "2022-08-08T14:55:12.354076Z"
    },
    "papermill": {
     "duration": 299.604368,
     "end_time": "2022-08-08T14:55:12.357536",
     "exception": false,
     "start_time": "2022-08-08T14:50:12.753168",
     "status": "completed"
    },
    "tags": []
   },
   "outputs": [
    {
     "name": "stdout",
     "output_type": "stream",
     "text": [
      "Epoch 1/25\n",
      "204/204 [==============================] - 11s 49ms/step - loss: 0.1889 - accuracy: 0.9194 - val_loss: 0.1031 - val_accuracy: 0.9600\n",
      "Epoch 2/25\n",
      "204/204 [==============================] - 9s 46ms/step - loss: 0.1064 - accuracy: 0.9576 - val_loss: 0.1023 - val_accuracy: 0.9619\n",
      "Epoch 3/25\n",
      "204/204 [==============================] - 9s 46ms/step - loss: 0.1002 - accuracy: 0.9605 - val_loss: 0.1057 - val_accuracy: 0.9619\n",
      "Epoch 4/25\n",
      "204/204 [==============================] - 10s 47ms/step - loss: 0.0957 - accuracy: 0.9625 - val_loss: 0.0992 - val_accuracy: 0.9650\n",
      "Epoch 5/25\n",
      "204/204 [==============================] - 10s 49ms/step - loss: 0.1018 - accuracy: 0.9601 - val_loss: 0.0999 - val_accuracy: 0.9631\n",
      "Epoch 6/25\n",
      "204/204 [==============================] - 9s 44ms/step - loss: 0.0972 - accuracy: 0.9636 - val_loss: 0.1008 - val_accuracy: 0.9644\n",
      "Epoch 7/25\n",
      "204/204 [==============================] - 16s 76ms/step - loss: 0.0847 - accuracy: 0.9659 - val_loss: 0.1037 - val_accuracy: 0.9613\n",
      "Epoch 8/25\n",
      "204/204 [==============================] - 27s 132ms/step - loss: 0.0893 - accuracy: 0.9644 - val_loss: 0.1115 - val_accuracy: 0.9594\n",
      "Epoch 9/25\n",
      "204/204 [==============================] - 9s 45ms/step - loss: 0.0766 - accuracy: 0.9704 - val_loss: 0.1048 - val_accuracy: 0.9600\n",
      "Epoch 10/25\n",
      "204/204 [==============================] - 9s 44ms/step - loss: 0.0774 - accuracy: 0.9691 - val_loss: 0.1009 - val_accuracy: 0.9600\n",
      "Epoch 11/25\n",
      "204/204 [==============================] - 9s 44ms/step - loss: 0.0666 - accuracy: 0.9748 - val_loss: 0.1167 - val_accuracy: 0.9607\n",
      "Epoch 12/25\n",
      "204/204 [==============================] - 9s 44ms/step - loss: 0.0692 - accuracy: 0.9736 - val_loss: 0.1144 - val_accuracy: 0.9570\n",
      "Epoch 13/25\n",
      "204/204 [==============================] - 9s 44ms/step - loss: 0.0603 - accuracy: 0.9763 - val_loss: 0.0945 - val_accuracy: 0.9637\n",
      "Epoch 14/25\n",
      "204/204 [==============================] - 9s 44ms/step - loss: 0.0546 - accuracy: 0.9800 - val_loss: 0.1009 - val_accuracy: 0.9619\n",
      "Epoch 15/25\n",
      "204/204 [==============================] - 9s 44ms/step - loss: 0.0496 - accuracy: 0.9820 - val_loss: 0.1373 - val_accuracy: 0.9545\n",
      "Epoch 16/25\n",
      "204/204 [==============================] - 9s 44ms/step - loss: 0.0430 - accuracy: 0.9828 - val_loss: 0.1254 - val_accuracy: 0.9594\n",
      "Epoch 17/25\n",
      "204/204 [==============================] - 9s 45ms/step - loss: 0.0376 - accuracy: 0.9882 - val_loss: 0.1364 - val_accuracy: 0.9557\n",
      "Epoch 18/25\n",
      "204/204 [==============================] - 9s 44ms/step - loss: 0.0322 - accuracy: 0.9894 - val_loss: 0.1511 - val_accuracy: 0.9551\n",
      "Epoch 19/25\n",
      "204/204 [==============================] - 9s 44ms/step - loss: 0.0327 - accuracy: 0.9874 - val_loss: 0.1359 - val_accuracy: 0.9582\n",
      "Epoch 20/25\n",
      "204/204 [==============================] - 9s 44ms/step - loss: 0.0329 - accuracy: 0.9889 - val_loss: 0.1558 - val_accuracy: 0.9502\n",
      "Epoch 21/25\n",
      "204/204 [==============================] - 9s 44ms/step - loss: 0.0241 - accuracy: 0.9916 - val_loss: 0.1447 - val_accuracy: 0.9557\n",
      "Epoch 22/25\n",
      "204/204 [==============================] - 9s 44ms/step - loss: 0.0307 - accuracy: 0.9903 - val_loss: 0.1744 - val_accuracy: 0.9576\n",
      "Epoch 23/25\n",
      "204/204 [==============================] - 9s 44ms/step - loss: 0.0176 - accuracy: 0.9954 - val_loss: 0.1639 - val_accuracy: 0.9631\n",
      "Epoch 24/25\n",
      "204/204 [==============================] - 9s 44ms/step - loss: 0.0189 - accuracy: 0.9942 - val_loss: 0.1577 - val_accuracy: 0.9619\n",
      "Epoch 25/25\n",
      "204/204 [==============================] - 9s 44ms/step - loss: 0.0193 - accuracy: 0.9934 - val_loss: 0.1753 - val_accuracy: 0.9588\n"
     ]
    }
   ],
   "source": [
    "start = time()\n",
    "\n",
    "history = model.fit(\n",
    "  TRAIN_DATASET,\n",
    "  validation_data=VALIDATION_DATASET,\n",
    "  epochs=EPOCHS\n",
    ")\n",
    "\n",
    "end = time()\n",
    "\n",
    "elapsed_time = end - start\n",
    "\n",
    "final_results = {\n",
    "  \"dataset\": \"Grayscale\",\n",
    "  \"total_parameters\": model.count_params(),\n",
    "  \"elapsed_time\": elapsed_time,\n",
    "  \"accuracy\": history.history[\"val_accuracy\"][-1]\n",
    "}"
   ]
  },
  {
   "cell_type": "markdown",
   "id": "1c0c6583",
   "metadata": {},
   "source": [
    "## Resultados"
   ]
  },
  {
   "cell_type": "code",
   "execution_count": 11,
   "id": "b486854d",
   "metadata": {},
   "outputs": [
    {
     "name": "stdout",
     "output_type": "stream",
     "text": [
      "Dataset Type: Grayscale\n",
      "Total number of parameters: 547970\n",
      "Elapsed Time: 256 seconds\n",
      "Final Accuracy: 95.88%\n"
     ]
    }
   ],
   "source": [
    "print(f\"Dataset Type: {final_results['dataset']}\")\n",
    "print(f\"Total number of parameters: {final_results['total_parameters']}\")\n",
    "print(f\"Elapsed Time: {final_results['elapsed_time']:.0f} seconds\")\n",
    "print(f\"Final Accuracy: {final_results['accuracy']*100:.2f}%\")"
   ]
  },
  {
   "cell_type": "code",
   "execution_count": 12,
   "id": "7872d433",
   "metadata": {
    "execution": {
     "iopub.execute_input": "2022-08-08T14:55:13.381859Z",
     "iopub.status.busy": "2022-08-08T14:55:13.381015Z",
     "iopub.status.idle": "2022-08-08T14:55:13.748196Z",
     "shell.execute_reply": "2022-08-08T14:55:13.747129Z"
    },
    "papermill": {
     "duration": 0.852356,
     "end_time": "2022-08-08T14:55:13.751415",
     "exception": false,
     "start_time": "2022-08-08T14:55:12.899059",
     "status": "completed"
    },
    "tags": []
   },
   "outputs": [
    {
     "data": {
      "image/png": "[encoded data removed]",
      "text/plain": [
       "<Figure size 2000x800 with 2 Axes>"
      ]
     },
     "metadata": {},
     "output_type": "display_data"
    }
   ],
   "source": [
    "plot_history(history)"
   ]
  },
  {
   "cell_type": "markdown",
   "id": "e2501695",
   "metadata": {
    "papermill": {
     "duration": 0.490734,
     "end_time": "2022-08-08T14:55:14.790106",
     "exception": false,
     "start_time": "2022-08-08T14:55:14.299372",
     "status": "completed"
    },
    "tags": []
   },
   "source": [
    "Same accuracy. It seems color doesn't care."
   ]
  },
  {
   "cell_type": "markdown",
   "id": "85f4872f",
   "metadata": {},
   "source": [
    "## Guardar el modelo"
   ]
  },
  {
   "cell_type": "code",
   "execution_count": 13,
   "id": "7eb93b28",
   "metadata": {},
   "outputs": [
    {
     "name": "stderr",
     "output_type": "stream",
     "text": [
      "WARNING:absl:Found untraced functions such as _jit_compiled_convolution_op, _jit_compiled_convolution_op, _jit_compiled_convolution_op, _update_step_xla while saving (showing 4 of 4). These functions will not be directly callable after loading.\n"
     ]
    },
    {
     "name": "stdout",
     "output_type": "stream",
     "text": [
      "INFO:tensorflow:Assets written to: mining_detection_model\\assets\n"
     ]
    },
    {
     "name": "stderr",
     "output_type": "stream",
     "text": [
      "INFO:tensorflow:Assets written to: mining_detection_model\\assets\n"
     ]
    }
   ],
   "source": [
    "model.save(MODEL_PATH)"
   ]
  },
  {
   "cell_type": "code",
   "execution_count": 14,
   "id": "30b3fae0",
   "metadata": {},
   "outputs": [],
   "source": [
    "model.save(f\"{MODEL_PATH}.h5\")"
   ]
  },
  {
   "cell_type": "markdown",
   "id": "2504b283",
   "metadata": {},
   "source": [
    "## Cargar el modelo"
   ]
  },
  {
   "cell_type": "code",
   "execution_count": 15,
   "id": "53278663",
   "metadata": {},
   "outputs": [],
   "source": [
    "model = tf.keras.models.load_model(MODEL_PATH)"
   ]
  },
  {
   "cell_type": "code",
   "execution_count": 16,
   "id": "122d3bf6",
   "metadata": {},
   "outputs": [],
   "source": [
    "model = tf.keras.models.load_model(f\"{MODEL_PATH}.h5\")"
   ]
  }
 ],
 "metadata": {
  "kernelspec": {
   "display_name": "Python 3",
   "language": "python",
   "name": "python3"
  },
  "language_info": {
   "codemirror_mode": {
    "name": "ipython",
    "version": 3
   },
   "file_extension": ".py",
   "mimetype": "text/x-python",
   "name": "python",
   "nbconvert_exporter": "python",
   "pygments_lexer": "ipython3",
   "version": "3.11.1"
  },
  "papermill": {
   "default_parameters": {},
   "duration": 1258.254698,
   "end_time": "2022-08-08T15:03:05.925834",
   "environment_variables": {},
   "exception": null,
   "input_path": "__notebook__.ipynb",
   "output_path": "__notebook__.ipynb",
   "parameters": {},
   "start_time": "2022-08-08T14:42:07.671136",
   "version": "2.3.4"
  }
 },
 "nbformat": 4,
 "nbformat_minor": 5
}
